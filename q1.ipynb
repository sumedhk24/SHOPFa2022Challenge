{
 "cells": [
  {
   "cell_type": "markdown",
   "id": "90fee5dd",
   "metadata": {},
   "source": [
    "# Fall 2022 Data Science Intern Challenge"
   ]
  },
  {
   "cell_type": "code",
   "execution_count": 2,
   "id": "6262e6d3",
   "metadata": {},
   "outputs": [],
   "source": [
    "import pandas as pd"
   ]
  },
  {
   "cell_type": "markdown",
   "id": "a8fa376f",
   "metadata": {},
   "source": [
    "## Analyzing Data"
   ]
  },
  {
   "cell_type": "code",
   "execution_count": 3,
   "id": "617cb286",
   "metadata": {},
   "outputs": [
    {
     "name": "stdout",
     "output_type": "stream",
     "text": [
      "order_id          5000\n",
      "shop_id           5000\n",
      "user_id           5000\n",
      "order_amount      5000\n",
      "total_items       5000\n",
      "payment_method    5000\n",
      "created_at        5000\n",
      "dtype: int64\n"
     ]
    },
    {
     "data": {
      "text/html": [
       "<div>\n",
       "<style scoped>\n",
       "    .dataframe tbody tr th:only-of-type {\n",
       "        vertical-align: middle;\n",
       "    }\n",
       "\n",
       "    .dataframe tbody tr th {\n",
       "        vertical-align: top;\n",
       "    }\n",
       "\n",
       "    .dataframe thead th {\n",
       "        text-align: right;\n",
       "    }\n",
       "</style>\n",
       "<table border=\"1\" class=\"dataframe\">\n",
       "  <thead>\n",
       "    <tr style=\"text-align: right;\">\n",
       "      <th></th>\n",
       "      <th>order_id</th>\n",
       "      <th>shop_id</th>\n",
       "      <th>user_id</th>\n",
       "      <th>order_amount</th>\n",
       "      <th>total_items</th>\n",
       "      <th>payment_method</th>\n",
       "      <th>created_at</th>\n",
       "    </tr>\n",
       "  </thead>\n",
       "  <tbody>\n",
       "    <tr>\n",
       "      <th>0</th>\n",
       "      <td>1</td>\n",
       "      <td>53</td>\n",
       "      <td>746</td>\n",
       "      <td>224</td>\n",
       "      <td>2</td>\n",
       "      <td>cash</td>\n",
       "      <td>2017-03-13 12:36:56</td>\n",
       "    </tr>\n",
       "    <tr>\n",
       "      <th>1</th>\n",
       "      <td>2</td>\n",
       "      <td>92</td>\n",
       "      <td>925</td>\n",
       "      <td>90</td>\n",
       "      <td>1</td>\n",
       "      <td>cash</td>\n",
       "      <td>2017-03-03 17:38:52</td>\n",
       "    </tr>\n",
       "    <tr>\n",
       "      <th>2</th>\n",
       "      <td>3</td>\n",
       "      <td>44</td>\n",
       "      <td>861</td>\n",
       "      <td>144</td>\n",
       "      <td>1</td>\n",
       "      <td>cash</td>\n",
       "      <td>2017-03-14 4:23:56</td>\n",
       "    </tr>\n",
       "    <tr>\n",
       "      <th>3</th>\n",
       "      <td>4</td>\n",
       "      <td>18</td>\n",
       "      <td>935</td>\n",
       "      <td>156</td>\n",
       "      <td>1</td>\n",
       "      <td>credit_card</td>\n",
       "      <td>2017-03-26 12:43:37</td>\n",
       "    </tr>\n",
       "    <tr>\n",
       "      <th>4</th>\n",
       "      <td>5</td>\n",
       "      <td>18</td>\n",
       "      <td>883</td>\n",
       "      <td>156</td>\n",
       "      <td>1</td>\n",
       "      <td>credit_card</td>\n",
       "      <td>2017-03-01 4:35:11</td>\n",
       "    </tr>\n",
       "  </tbody>\n",
       "</table>\n",
       "</div>"
      ],
      "text/plain": [
       "   order_id  shop_id  user_id  order_amount  total_items payment_method  \\\n",
       "0         1       53      746           224            2           cash   \n",
       "1         2       92      925            90            1           cash   \n",
       "2         3       44      861           144            1           cash   \n",
       "3         4       18      935           156            1    credit_card   \n",
       "4         5       18      883           156            1    credit_card   \n",
       "\n",
       "            created_at  \n",
       "0  2017-03-13 12:36:56  \n",
       "1  2017-03-03 17:38:52  \n",
       "2   2017-03-14 4:23:56  \n",
       "3  2017-03-26 12:43:37  \n",
       "4   2017-03-01 4:35:11  "
      ]
     },
     "execution_count": 3,
     "metadata": {},
     "output_type": "execute_result"
    }
   ],
   "source": [
    "df = pd.read_csv(\"q1.csv\")\n",
    "print(df.count())\n",
    "df.head()"
   ]
  },
  {
   "cell_type": "markdown",
   "id": "f380cf1a",
   "metadata": {},
   "source": [
    "## Calculating Average Order Value\n",
    "\n",
    "The formula for average order value is listed as follows: $$AOV = \\frac{revenue}{orders}$$"
   ]
  },
  {
   "cell_type": "code",
   "execution_count": 4,
   "id": "5ee69778",
   "metadata": {},
   "outputs": [
    {
     "name": "stdout",
     "output_type": "stream",
     "text": [
      "The average order value is $357.92\n"
     ]
    }
   ],
   "source": [
    "revenue = df[\"order_amount\"].sum()\n",
    "number_orders = df[\"total_items\"].sum()\n",
    "average_order_value = revenue / number_orders\n",
    "print(\"The average order value is $%.2f\" % average_order_value)"
   ]
  },
  {
   "cell_type": "markdown",
   "id": "3b293e8d",
   "metadata": {},
   "source": [
    "Let's see if we can figure out what the miscalculation is. There are two possible mistakes: the revenue, or the number of orders. Let's try figuring out what each one might be."
   ]
  },
  {
   "cell_type": "code",
   "execution_count": 5,
   "id": "05ad172f",
   "metadata": {},
   "outputs": [
    {
     "name": "stdout",
     "output_type": "stream",
     "text": [
      "Falsely calculated revenue: $138184431.68, falsely calculated orders 4999\n"
     ]
    }
   ],
   "source": [
    "false_aov = 3145.13\n",
    "false_orders = revenue / false_aov\n",
    "false_revenue = false_aov * number_orders\n",
    "print(\"Falsely calculated revenue: $%.2f, falsely calculated orders %d\" % (false_revenue, false_orders))"
   ]
  },
  {
   "cell_type": "markdown",
   "id": "071ab3da",
   "metadata": {},
   "source": [
    "The falsely calculated orders look suspiciously similar to the total number of orders placed which could be the mistake that was made in the calculation."
   ]
  },
  {
   "cell_type": "markdown",
   "id": "41326f68",
   "metadata": {},
   "source": [
    "## Looking at Another Metric\n",
    "\n",
    "Instead of looking at the average order value, we might want to look at the average of the shoe prices themselves. Since we know each shop only sells one brand of shoe, this is very easy to calculate."
   ]
  },
  {
   "cell_type": "code",
   "execution_count": 32,
   "id": "10d433ee",
   "metadata": {},
   "outputs": [
    {
     "data": {
      "text/plain": [
       "407.99"
      ]
     },
     "execution_count": 32,
     "metadata": {},
     "output_type": "execute_result"
    }
   ],
   "source": [
    "unique_shops = df.drop_duplicates([\"shop_id\"])\n",
    "shoe_prices = unique_shops[\"order_amount\"] / unique_shops[\"total_items\"]\n",
    "shoe_prices.mean()"
   ]
  },
  {
   "cell_type": "markdown",
   "id": "2215732d",
   "metadata": {},
   "source": [
    "This price still seems awfully high for a shoe. Let's see if we can figure out what's going on."
   ]
  },
  {
   "cell_type": "code",
   "execution_count": 36,
   "id": "be9cd94b",
   "metadata": {},
   "outputs": [
    {
     "data": {
      "text/plain": [
       "count      100.000000\n",
       "mean       407.990000\n",
       "std       2557.462906\n",
       "min         90.000000\n",
       "25%        132.750000\n",
       "50%        153.000000\n",
       "75%        168.250000\n",
       "max      25725.000000\n",
       "dtype: float64"
      ]
     },
     "execution_count": 36,
     "metadata": {},
     "output_type": "execute_result"
    }
   ],
   "source": [
    "shoe_prices.describe()"
   ]
  },
  {
   "cell_type": "markdown",
   "id": "f99fc6b0",
   "metadata": {},
   "source": [
    "It seems that the average is being significantly boosted by a certain shoe costing $25725.00. In cases like these, it's better to look at the median."
   ]
  },
  {
   "cell_type": "code",
   "execution_count": 34,
   "id": "2d275be2",
   "metadata": {},
   "outputs": [
    {
     "name": "stdout",
     "output_type": "stream",
     "text": [
      "The median shoe price is $153.00.\n"
     ]
    }
   ],
   "source": [
    "print(\"The median shoe price is $%.2f.\" % shoe_prices.median())"
   ]
  },
  {
   "cell_type": "markdown",
   "id": "2568c86b",
   "metadata": {},
   "source": [
    "This looks much more affordable!"
   ]
  }
 ],
 "metadata": {
  "kernelspec": {
   "display_name": "Python 3 (ipykernel)",
   "language": "python",
   "name": "python3"
  },
  "language_info": {
   "codemirror_mode": {
    "name": "ipython",
    "version": 3
   },
   "file_extension": ".py",
   "mimetype": "text/x-python",
   "name": "python",
   "nbconvert_exporter": "python",
   "pygments_lexer": "ipython3",
   "version": "3.9.7"
  }
 },
 "nbformat": 4,
 "nbformat_minor": 5
}
