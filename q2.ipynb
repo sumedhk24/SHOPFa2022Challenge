{
 "cells": [
  {
   "cell_type": "markdown",
   "id": "c20ecec4",
   "metadata": {},
   "source": [
    "# Question 2"
   ]
  },
  {
   "cell_type": "markdown",
   "id": "c4547ec6",
   "metadata": {},
   "source": [
    "a) How many orders were shipped by Speedy Express in total?\n",
    "\n",
    "Query:\n",
    "\n",
    "SELECT Shippers.ShipperID, ShipperName, OrderID, OrderDate \n",
    "FROM Shippers \n",
    "INNER JOIN Orders ON Shippers.ShipperID=Orders.ShipperID \n",
    "where Shippers.ShipperName = \"Speedy Express\";\n",
    "\n",
    "Answer:\n",
    "\n",
    "54"
   ]
  },
  {
   "cell_type": "markdown",
   "id": "322556dd",
   "metadata": {},
   "source": [
    "b) What is the last name of the employee with the most orders?\n",
    "\n"
   ]
  },
  {
   "cell_type": "markdown",
   "id": "0109cbf9",
   "metadata": {},
   "source": [
    "Query:\n",
    "\n",
    "select NameTable.*\n",
    "from (SELECT LastName, count(*) as ordcnt FROM Employees\n",
    "inner join Orders on Orders.EmployeeID = Employees.EmployeeID\n",
    "group by LastName) NameTable,\n",
    "(select max(CountTable.ordcnt) as highest_cnt from\n",
    "(SELECT EmployeeID, count(*) as ordcnt FROM Orders\n",
    "group by EmployeeID) CountTable) maxCount\n",
    "where NameTable.ordcnt = maxCount.highest_cnt\n",
    "\n",
    "Answer:\n",
    "\n",
    "Peacock with 40 orders"
   ]
  },
  {
   "cell_type": "markdown",
   "id": "bc40a274",
   "metadata": {},
   "source": [
    "c) What product was ordered the most by customers in Germany?"
   ]
  },
  {
   "cell_type": "markdown",
   "id": "6a47e990",
   "metadata": {},
   "source": [
    "Query:\n",
    "\n",
    "select query5.* from \n",
    "(select ProductName, count(Products.ProductID) as ProductCount from \n",
    "(select CustomerID, Country, OrderDetails.OrderID, ProductID from\n",
    "(select Orders.CustomerID, Country, OrderID from\n",
    "(SELECT CustomerID, Country FROM Customers\n",
    "where Country = \"Germany\") query1\n",
    "inner join Orders on query1.CustomerID = Orders.CustomerID) query2\n",
    "inner join OrderDetails on query2.OrderID = OrderDetails.OrderID) query3\n",
    "inner join Products on query3.ProductID = Products.ProductID\n",
    "group by ProductName) query5,\n",
    "(select max(ProductCount) as highest_product from\n",
    "(select ProductName, count(Products.ProductID) as ProductCount from \n",
    "(select CustomerID, Country, OrderDetails.OrderID, ProductID from\n",
    "(select Orders.CustomerID, Country, OrderID from\n",
    "(SELECT CustomerID, Country FROM Customers\n",
    "where Country = \"Germany\") query1\n",
    "inner join Orders on query1.CustomerID = Orders.CustomerID) query2\n",
    "inner join OrderDetails on query2.OrderID = OrderDetails.OrderID) query3\n",
    "inner join Products on query3.ProductID = Products.ProductID\n",
    "group by ProductName) query4) maxCount\n",
    "where query5.ProductCount = maxCount.highest_product\n",
    "\n",
    "Answer:\n",
    "\n",
    "Gorgonzola Telino with 5 orders"
   ]
  }
 ],
 "metadata": {
  "kernelspec": {
   "display_name": "Python 3 (ipykernel)",
   "language": "python",
   "name": "python3"
  },
  "language_info": {
   "codemirror_mode": {
    "name": "ipython",
    "version": 3
   },
   "file_extension": ".py",
   "mimetype": "text/x-python",
   "name": "python",
   "nbconvert_exporter": "python",
   "pygments_lexer": "ipython3",
   "version": "3.9.7"
  }
 },
 "nbformat": 4,
 "nbformat_minor": 5
}
